{
  "nbformat": 4,
  "nbformat_minor": 0,
  "metadata": {
    "colab": {
      "name": "FIneTuneYoutube.ipynb",
      "provenance": [],
      "collapsed_sections": [],
      "authorship_tag": "ABX9TyPbiArbnLXp4dy2QK/LDL/U",
      "include_colab_link": true
    },
    "kernelspec": {
      "name": "python3",
      "display_name": "Python 3"
    },
    "accelerator": "GPU"
  },
  "cells": [
    {
      "cell_type": "markdown",
      "metadata": {
        "id": "view-in-github",
        "colab_type": "text"
      },
      "source": [
        "<a href=\"https://colab.research.google.com/github/pascca/BERT_eli5/blob/master/FIneTuneYoutube.ipynb\" target=\"_parent\"><img src=\"https://colab.research.google.com/assets/colab-badge.svg\" alt=\"Open In Colab\"/></a>"
      ]
    },
    {
      "cell_type": "markdown",
      "metadata": {
        "id": "wUvvY9RlrGH4"
      },
      "source": [
        "First Preprocess the data for Huggingface"
      ]
    },
    {
      "cell_type": "code",
      "metadata": {
        "colab": {
          "base_uri": "https://localhost:8080/"
        },
        "id": "SEoO78wTtxoe",
        "outputId": "1939a7a0-84c0-4c61-c4f5-b8d640eb51c7"
      },
      "source": [
        "!pip install transformers==2.8.0\r\n",
        "!pip install torch==1.4.0"
      ],
      "execution_count": 1,
      "outputs": [
        {
          "output_type": "stream",
          "text": [
            "Requirement already satisfied: transformers==2.8.0 in /usr/local/lib/python3.7/dist-packages (2.8.0)\n",
            "Requirement already satisfied: tqdm>=4.27 in /usr/local/lib/python3.7/dist-packages (from transformers==2.8.0) (4.41.1)\n",
            "Requirement already satisfied: boto3 in /usr/local/lib/python3.7/dist-packages (from transformers==2.8.0) (1.17.29)\n",
            "Requirement already satisfied: filelock in /usr/local/lib/python3.7/dist-packages (from transformers==2.8.0) (3.0.12)\n",
            "Requirement already satisfied: requests in /usr/local/lib/python3.7/dist-packages (from transformers==2.8.0) (2.23.0)\n",
            "Requirement already satisfied: tokenizers==0.5.2 in /usr/local/lib/python3.7/dist-packages (from transformers==2.8.0) (0.5.2)\n",
            "Requirement already satisfied: numpy in /usr/local/lib/python3.7/dist-packages (from transformers==2.8.0) (1.19.5)\n",
            "Requirement already satisfied: regex!=2019.12.17 in /usr/local/lib/python3.7/dist-packages (from transformers==2.8.0) (2019.12.20)\n",
            "Requirement already satisfied: sacremoses in /usr/local/lib/python3.7/dist-packages (from transformers==2.8.0) (0.0.43)\n",
            "Requirement already satisfied: sentencepiece in /usr/local/lib/python3.7/dist-packages (from transformers==2.8.0) (0.1.95)\n",
            "Requirement already satisfied: s3transfer<0.4.0,>=0.3.0 in /usr/local/lib/python3.7/dist-packages (from boto3->transformers==2.8.0) (0.3.4)\n",
            "Requirement already satisfied: jmespath<1.0.0,>=0.7.1 in /usr/local/lib/python3.7/dist-packages (from boto3->transformers==2.8.0) (0.10.0)\n",
            "Requirement already satisfied: botocore<1.21.0,>=1.20.29 in /usr/local/lib/python3.7/dist-packages (from boto3->transformers==2.8.0) (1.20.29)\n",
            "Requirement already satisfied: certifi>=2017.4.17 in /usr/local/lib/python3.7/dist-packages (from requests->transformers==2.8.0) (2020.12.5)\n",
            "Requirement already satisfied: urllib3!=1.25.0,!=1.25.1,<1.26,>=1.21.1 in /usr/local/lib/python3.7/dist-packages (from requests->transformers==2.8.0) (1.24.3)\n",
            "Requirement already satisfied: chardet<4,>=3.0.2 in /usr/local/lib/python3.7/dist-packages (from requests->transformers==2.8.0) (3.0.4)\n",
            "Requirement already satisfied: idna<3,>=2.5 in /usr/local/lib/python3.7/dist-packages (from requests->transformers==2.8.0) (2.10)\n",
            "Requirement already satisfied: six in /usr/local/lib/python3.7/dist-packages (from sacremoses->transformers==2.8.0) (1.15.0)\n",
            "Requirement already satisfied: joblib in /usr/local/lib/python3.7/dist-packages (from sacremoses->transformers==2.8.0) (1.0.1)\n",
            "Requirement already satisfied: click in /usr/local/lib/python3.7/dist-packages (from sacremoses->transformers==2.8.0) (7.1.2)\n",
            "Requirement already satisfied: python-dateutil<3.0.0,>=2.1 in /usr/local/lib/python3.7/dist-packages (from botocore<1.21.0,>=1.20.29->boto3->transformers==2.8.0) (2.8.1)\n",
            "Requirement already satisfied: torch==1.4.0 in /usr/local/lib/python3.7/dist-packages (1.4.0)\n"
          ],
          "name": "stdout"
        }
      ]
    },
    {
      "cell_type": "code",
      "metadata": {
        "colab": {
          "base_uri": "https://localhost:8080/"
        },
        "id": "rUBhHDfTwBrF",
        "outputId": "8053ee80-0ed2-4b1d-c244-76d71360c61f"
      },
      "source": [
        "import transformers\r\n",
        "import torch\r\n",
        "\r\n",
        "import copy\r\n",
        "import numpy as np\r\n",
        "import pandas as pd\r\n",
        "import seaborn as sns\r\n",
        "from pylab import rcParams\r\n",
        "import matplotlib.pyplot as plt\r\n",
        "from matplotlib import rc\r\n",
        "from sklearn.model_selection import train_test_split\r\n",
        "from tqdm import tqdm\r\n",
        "from torch import nn,optim\r\n",
        "from torch.utils import data\r\n",
        "%matplotlib inline\r\n",
        "%config InlineBackend.figure_format='retina'\r\n",
        "\r\n",
        "sns.set(style='whitegrid', palette='muted', font_scale=1.2)\r\n",
        "\r\n",
        "HAPPY_COLORS_PALETTE = [\"#01BEFE\",\"#FFDD00\", \"#FF7D00\",\"#FF006D\", \"#ADFF02\", \"#8F00FF\"]\r\n",
        "\r\n",
        "sns.set_palette(sns.color_palette(HAPPY_COLORS_PALETTE))\r\n",
        "\r\n",
        "rcParams['figure.figsize'] = 6, 6\r\n",
        "\r\n",
        "RANDOM_SEED = 42\r\n",
        "np.random.seed(RANDOM_SEED)\r\n",
        "torch.manual_seed(RANDOM_SEED)\r\n"
      ],
      "execution_count": 2,
      "outputs": [
        {
          "output_type": "execute_result",
          "data": {
            "text/plain": [
              "<torch._C.Generator at 0x7f5235c16fb0>"
            ]
          },
          "metadata": {
            "tags": []
          },
          "execution_count": 2
        }
      ]
    },
    {
      "cell_type": "markdown",
      "metadata": {
        "id": "9xhSg0SwyB9h"
      },
      "source": [
        "Download Daten von Venelin Valkov"
      ]
    },
    {
      "cell_type": "code",
      "metadata": {
        "colab": {
          "base_uri": "https://localhost:8080/"
        },
        "id": "yTcU6dLIyGiK",
        "outputId": "c8fb2036-ab8e-49e2-e8bd-cb1c7d918f41"
      },
      "source": [
        "!gdown --id 1S6qMioqPJjyBLpLVz4gmRTnJHnjitnuV\r\n",
        "!gdown --id 1zdmewp7ayS4js4VtrJEHzAheSW-5NBZv"
      ],
      "execution_count": 3,
      "outputs": [
        {
          "output_type": "stream",
          "text": [
            "Downloading...\n",
            "From: https://drive.google.com/uc?id=1S6qMioqPJjyBLpLVz4gmRTnJHnjitnuV\n",
            "To: /content/apps.csv\n",
            "100% 134k/134k [00:00<00:00, 4.32MB/s]\n",
            "Downloading...\n",
            "From: https://drive.google.com/uc?id=1zdmewp7ayS4js4VtrJEHzAheSW-5NBZv\n",
            "To: /content/reviews.csv\n",
            "7.17MB [00:00, 63.3MB/s]\n"
          ],
          "name": "stdout"
        }
      ]
    },
    {
      "cell_type": "markdown",
      "metadata": {
        "id": "dHPLIVP6zTIX"
      },
      "source": [
        "Lesen der Files"
      ]
    },
    {
      "cell_type": "code",
      "metadata": {
        "colab": {
          "base_uri": "https://localhost:8080/",
          "height": 618
        },
        "id": "ZUhF81PbzVIL",
        "outputId": "1275dfc7-8caa-486c-c1f9-704fda2382f7"
      },
      "source": [
        "df = pd.read_csv('reviews.csv')\r\n",
        "df.head()"
      ],
      "execution_count": 4,
      "outputs": [
        {
          "output_type": "execute_result",
          "data": {
            "text/html": [
              "<div>\n",
              "<style scoped>\n",
              "    .dataframe tbody tr th:only-of-type {\n",
              "        vertical-align: middle;\n",
              "    }\n",
              "\n",
              "    .dataframe tbody tr th {\n",
              "        vertical-align: top;\n",
              "    }\n",
              "\n",
              "    .dataframe thead th {\n",
              "        text-align: right;\n",
              "    }\n",
              "</style>\n",
              "<table border=\"1\" class=\"dataframe\">\n",
              "  <thead>\n",
              "    <tr style=\"text-align: right;\">\n",
              "      <th></th>\n",
              "      <th>userName</th>\n",
              "      <th>userImage</th>\n",
              "      <th>content</th>\n",
              "      <th>score</th>\n",
              "      <th>thumbsUpCount</th>\n",
              "      <th>reviewCreatedVersion</th>\n",
              "      <th>at</th>\n",
              "      <th>replyContent</th>\n",
              "      <th>repliedAt</th>\n",
              "      <th>sortOrder</th>\n",
              "      <th>appId</th>\n",
              "    </tr>\n",
              "  </thead>\n",
              "  <tbody>\n",
              "    <tr>\n",
              "      <th>0</th>\n",
              "      <td>Andrew Thomas</td>\n",
              "      <td>https://lh3.googleusercontent.com/a-/AOh14GiHd...</td>\n",
              "      <td>Update: After getting a response from the deve...</td>\n",
              "      <td>1</td>\n",
              "      <td>21</td>\n",
              "      <td>4.17.0.3</td>\n",
              "      <td>2020-04-05 22:25:57</td>\n",
              "      <td>According to our TOS, and the term you have ag...</td>\n",
              "      <td>2020-04-05 15:10:24</td>\n",
              "      <td>most_relevant</td>\n",
              "      <td>com.anydo</td>\n",
              "    </tr>\n",
              "    <tr>\n",
              "      <th>1</th>\n",
              "      <td>Craig Haines</td>\n",
              "      <td>https://lh3.googleusercontent.com/-hoe0kwSJgPQ...</td>\n",
              "      <td>Used it for a fair amount of time without any ...</td>\n",
              "      <td>1</td>\n",
              "      <td>11</td>\n",
              "      <td>4.17.0.3</td>\n",
              "      <td>2020-04-04 13:40:01</td>\n",
              "      <td>It sounds like you logged in with a different ...</td>\n",
              "      <td>2020-04-05 15:11:35</td>\n",
              "      <td>most_relevant</td>\n",
              "      <td>com.anydo</td>\n",
              "    </tr>\n",
              "    <tr>\n",
              "      <th>2</th>\n",
              "      <td>steven adkins</td>\n",
              "      <td>https://lh3.googleusercontent.com/a-/AOh14GiXw...</td>\n",
              "      <td>Your app sucks now!!!!! Used to be good but no...</td>\n",
              "      <td>1</td>\n",
              "      <td>17</td>\n",
              "      <td>4.17.0.3</td>\n",
              "      <td>2020-04-01 16:18:13</td>\n",
              "      <td>This sounds odd! We are not aware of any issue...</td>\n",
              "      <td>2020-04-02 16:05:56</td>\n",
              "      <td>most_relevant</td>\n",
              "      <td>com.anydo</td>\n",
              "    </tr>\n",
              "    <tr>\n",
              "      <th>3</th>\n",
              "      <td>Lars Panzerbjørn</td>\n",
              "      <td>https://lh3.googleusercontent.com/a-/AOh14Gg-h...</td>\n",
              "      <td>It seems OK, but very basic. Recurring tasks n...</td>\n",
              "      <td>1</td>\n",
              "      <td>192</td>\n",
              "      <td>4.17.0.2</td>\n",
              "      <td>2020-03-12 08:17:34</td>\n",
              "      <td>We do offer this option as part of the Advance...</td>\n",
              "      <td>2020-03-15 06:20:13</td>\n",
              "      <td>most_relevant</td>\n",
              "      <td>com.anydo</td>\n",
              "    </tr>\n",
              "    <tr>\n",
              "      <th>4</th>\n",
              "      <td>Scott Prewitt</td>\n",
              "      <td>https://lh3.googleusercontent.com/-K-X1-YsVd6U...</td>\n",
              "      <td>Absolutely worthless. This app runs a prohibit...</td>\n",
              "      <td>1</td>\n",
              "      <td>42</td>\n",
              "      <td>4.17.0.2</td>\n",
              "      <td>2020-03-14 17:41:01</td>\n",
              "      <td>We're sorry you feel this way! 90% of the app ...</td>\n",
              "      <td>2020-03-15 23:45:51</td>\n",
              "      <td>most_relevant</td>\n",
              "      <td>com.anydo</td>\n",
              "    </tr>\n",
              "  </tbody>\n",
              "</table>\n",
              "</div>"
            ],
            "text/plain": [
              "           userName  ...      appId\n",
              "0     Andrew Thomas  ...  com.anydo\n",
              "1      Craig Haines  ...  com.anydo\n",
              "2     steven adkins  ...  com.anydo\n",
              "3  Lars Panzerbjørn  ...  com.anydo\n",
              "4     Scott Prewitt  ...  com.anydo\n",
              "\n",
              "[5 rows x 11 columns]"
            ]
          },
          "metadata": {
            "tags": []
          },
          "execution_count": 4
        }
      ]
    },
    {
      "cell_type": "code",
      "metadata": {
        "colab": {
          "base_uri": "https://localhost:8080/"
        },
        "id": "WoZawcAkzjaV",
        "outputId": "d4323c46-b55e-4cd6-c706-00f1a1216118"
      },
      "source": [
        "df.shape"
      ],
      "execution_count": 5,
      "outputs": [
        {
          "output_type": "execute_result",
          "data": {
            "text/plain": [
              "(15746, 11)"
            ]
          },
          "metadata": {
            "tags": []
          },
          "execution_count": 5
        }
      ]
    },
    {
      "cell_type": "code",
      "metadata": {
        "colab": {
          "base_uri": "https://localhost:8080/"
        },
        "id": "c6jkZeQazmGQ",
        "outputId": "544a0ed3-058d-42c6-ef8e-62567ab58101"
      },
      "source": [
        "df.info()"
      ],
      "execution_count": 6,
      "outputs": [
        {
          "output_type": "stream",
          "text": [
            "<class 'pandas.core.frame.DataFrame'>\n",
            "RangeIndex: 15746 entries, 0 to 15745\n",
            "Data columns (total 11 columns):\n",
            " #   Column                Non-Null Count  Dtype \n",
            "---  ------                --------------  ----- \n",
            " 0   userName              15746 non-null  object\n",
            " 1   userImage             15746 non-null  object\n",
            " 2   content               15746 non-null  object\n",
            " 3   score                 15746 non-null  int64 \n",
            " 4   thumbsUpCount         15746 non-null  int64 \n",
            " 5   reviewCreatedVersion  13533 non-null  object\n",
            " 6   at                    15746 non-null  object\n",
            " 7   replyContent          7367 non-null   object\n",
            " 8   repliedAt             7367 non-null   object\n",
            " 9   sortOrder             15746 non-null  object\n",
            " 10  appId                 15746 non-null  object\n",
            "dtypes: int64(2), object(9)\n",
            "memory usage: 1.3+ MB\n"
          ],
          "name": "stdout"
        }
      ]
    },
    {
      "cell_type": "markdown",
      "metadata": {
        "id": "WZ8tRFKWzuSO"
      },
      "source": [
        "Check Data Balance"
      ]
    },
    {
      "cell_type": "code",
      "metadata": {
        "colab": {
          "base_uri": "https://localhost:8080/",
          "height": 469
        },
        "id": "LA2Pk337zv0v",
        "outputId": "8d292534-8971-4243-8c38-ac85abb7de29"
      },
      "source": [
        "sns.countplot(df.score)\r\n",
        "plt.xlabel('review score')"
      ],
      "execution_count": 7,
      "outputs": [
        {
          "output_type": "stream",
          "text": [
            "/usr/local/lib/python3.7/dist-packages/seaborn/_decorators.py:43: FutureWarning: Pass the following variable as a keyword arg: x. From version 0.12, the only valid positional argument will be `data`, and passing other arguments without an explicit keyword will result in an error or misinterpretation.\n",
            "  FutureWarning\n"
          ],
          "name": "stderr"
        },
        {
          "output_type": "execute_result",
          "data": {
            "text/plain": [
              "Text(0.5, 0, 'review score')"
            ]
          },
          "metadata": {
            "tags": []
          },
          "execution_count": 7
        },
        {
          "output_type": "display_data",
          "data": {
            "image/png": "[encoded data removed]",
            "text/plain": [
              "<Figure size 432x432 with 1 Axes>"
            ]
          },
          "metadata": {
            "tags": [],
            "image/png": {
              "width": 410,
              "height": 381
            }
          }
        }
      ]
    },
    {
      "cell_type": "markdown",
      "metadata": {
        "id": "_E5mW0P50FmM"
      },
      "source": [
        "Group 1 and 2 to NEG, 4 and 5 to POS and 3 to NEUTRAL"
      ]
    },
    {
      "cell_type": "code",
      "metadata": {
        "id": "ht2uUCta0MGI"
      },
      "source": [
        "def to_sentiment(rating):\r\n",
        "  rating = int(rating)\r\n",
        "  if rating <= 2:\r\n",
        "    return 0\r\n",
        "  elif rating == 3:\r\n",
        "    return 1 \r\n",
        "  else:\r\n",
        "    return 2"
      ],
      "execution_count": 8,
      "outputs": []
    },
    {
      "cell_type": "markdown",
      "metadata": {
        "id": "frZlLzYE0gty"
      },
      "source": [
        "Create new column to dataframe for labels"
      ]
    },
    {
      "cell_type": "code",
      "metadata": {
        "id": "XxsL3E_A0bzm"
      },
      "source": [
        "df['sentiment'] = df.score.apply(to_sentiment)"
      ],
      "execution_count": 9,
      "outputs": []
    },
    {
      "cell_type": "markdown",
      "metadata": {
        "id": "VtxEBHs_0teP"
      },
      "source": [
        "check Class balances again"
      ]
    },
    {
      "cell_type": "code",
      "metadata": {
        "id": "jsC7e1la01nU"
      },
      "source": [
        "class_names = ['negative','neutral','positive']"
      ],
      "execution_count": 10,
      "outputs": []
    },
    {
      "cell_type": "code",
      "metadata": {
        "colab": {
          "base_uri": "https://localhost:8080/",
          "height": 469
        },
        "id": "zFitC3nK079v",
        "outputId": "b6299d7e-76e2-4d45-ddd4-18a79a708e64"
      },
      "source": [
        "ax = sns.countplot(df.sentiment)\r\n",
        "plt.xlabel('review sentiment')\r\n",
        "ax.set_xticklabels(class_names)"
      ],
      "execution_count": 11,
      "outputs": [
        {
          "output_type": "stream",
          "text": [
            "/usr/local/lib/python3.7/dist-packages/seaborn/_decorators.py:43: FutureWarning: Pass the following variable as a keyword arg: x. From version 0.12, the only valid positional argument will be `data`, and passing other arguments without an explicit keyword will result in an error or misinterpretation.\n",
            "  FutureWarning\n"
          ],
          "name": "stderr"
        },
        {
          "output_type": "execute_result",
          "data": {
            "text/plain": [
              "[Text(0, 0, 'negative'), Text(0, 0, 'neutral'), Text(0, 0, 'positive')]"
            ]
          },
          "metadata": {
            "tags": []
          },
          "execution_count": 11
        },
        {
          "output_type": "display_data",
          "data": {
            "image/png": "[encoded data removed]",
            "text/plain": [
              "<Figure size 432x432 with 1 Axes>"
            ]
          },
          "metadata": {
            "tags": [],
            "image/png": {
              "width": 410,
              "height": 381
            }
          }
        }
      ]
    },
    {
      "cell_type": "markdown",
      "metadata": {
        "id": "cF1AD9ms1Sja"
      },
      "source": [
        "Data Preprocessing now!"
      ]
    },
    {
      "cell_type": "code",
      "metadata": {
        "id": "TbidDwWNZMPn"
      },
      "source": [
        "PRE_TRAINED_MODEL_NAME = 'bert-base-multilingual-cased'"
      ],
      "execution_count": 12,
      "outputs": []
    },
    {
      "cell_type": "code",
      "metadata": {
        "id": "tBCh580v1Uay"
      },
      "source": [
        "tokenizer = transformers.BertTokenizer.from_pretrained(PRE_TRAINED_MODEL_NAME)"
      ],
      "execution_count": 13,
      "outputs": []
    },
    {
      "cell_type": "markdown",
      "metadata": {
        "id": "ZPGlvtae2fhW"
      },
      "source": [
        "Do Padding and Attention Mask(Every Token with Meaning has a Value of 1 and else 0)"
      ]
    },
    {
      "cell_type": "markdown",
      "metadata": {
        "id": "pzBigcKB21g9"
      },
      "source": [
        "Example with sample text to learn"
      ]
    },
    {
      "cell_type": "code",
      "metadata": {
        "id": "hg-C-gE02bvr"
      },
      "source": [
        "sample_txt = 'When was I last outside? I am stuck at home for 2 weeks.'"
      ],
      "execution_count": 14,
      "outputs": []
    },
    {
      "cell_type": "code",
      "metadata": {
        "id": "1yrhWcJ_2-RI"
      },
      "source": [
        "tokens = tokenizer.tokenize(sample_txt)"
      ],
      "execution_count": 15,
      "outputs": []
    },
    {
      "cell_type": "code",
      "metadata": {
        "colab": {
          "base_uri": "https://localhost:8080/"
        },
        "id": "Wo2VivaN3E_l",
        "outputId": "23866664-99b9-4432-a7ef-40f66accb2ec"
      },
      "source": [
        "print(tokens)"
      ],
      "execution_count": 16,
      "outputs": [
        {
          "output_type": "stream",
          "text": [
            "['When', 'was', 'I', 'last', 'outside', '?', 'I', 'am', 'st', '##uck', 'at', 'home', 'for', '2', 'weeks', '.']\n"
          ],
          "name": "stdout"
        }
      ]
    },
    {
      "cell_type": "markdown",
      "metadata": {
        "id": "0mYajK2E3OS3"
      },
      "source": [
        "Tokens To IDs which are passed to BERT later"
      ]
    },
    {
      "cell_type": "code",
      "metadata": {
        "id": "PBsvYUDs3NE7"
      },
      "source": [
        "token_ids = tokenizer.convert_tokens_to_ids(tokens)"
      ],
      "execution_count": 17,
      "outputs": []
    },
    {
      "cell_type": "code",
      "metadata": {
        "colab": {
          "base_uri": "https://localhost:8080/"
        },
        "id": "WkRIWH2o3gqJ",
        "outputId": "eed24abe-f919-4280-d1df-58322b17962a"
      },
      "source": [
        "print(token_ids)"
      ],
      "execution_count": 18,
      "outputs": [
        {
          "output_type": "stream",
          "text": [
            "[12242, 10134, 146, 12469, 17555, 136, 146, 10392, 28780, 31746, 10160, 11816, 10142, 123, 20750, 119]\n"
          ],
          "name": "stdout"
        }
      ]
    },
    {
      "cell_type": "code",
      "metadata": {
        "colab": {
          "base_uri": "https://localhost:8080/"
        },
        "id": "Nl4CfK5x3ssi",
        "outputId": "9f958371-68d2-40d5-a48f-7156dee1a3b9"
      },
      "source": [
        "print(f' Sentence: {sample_txt}')\r\n",
        "print(f' Tokens: {tokens}')\r\n",
        "print(f' Token IDs: {token_ids}')"
      ],
      "execution_count": 19,
      "outputs": [
        {
          "output_type": "stream",
          "text": [
            " Sentence: When was I last outside? I am stuck at home for 2 weeks.\n",
            " Tokens: ['When', 'was', 'I', 'last', 'outside', '?', 'I', 'am', 'st', '##uck', 'at', 'home', 'for', '2', 'weeks', '.']\n",
            " Token IDs: [12242, 10134, 146, 12469, 17555, 136, 146, 10392, 28780, 31746, 10160, 11816, 10142, 123, 20750, 119]\n"
          ],
          "name": "stdout"
        }
      ]
    },
    {
      "cell_type": "markdown",
      "metadata": {
        "id": "fUH-TWQd4PBb"
      },
      "source": [
        "Special Tokens"
      ]
    },
    {
      "cell_type": "code",
      "metadata": {
        "colab": {
          "base_uri": "https://localhost:8080/"
        },
        "id": "GaU8pwbj4Q4e",
        "outputId": "149cd697-170d-4e06-d77a-11491404f7dc"
      },
      "source": [
        "tokenizer.sep_token, tokenizer.sep_token_id"
      ],
      "execution_count": 20,
      "outputs": [
        {
          "output_type": "execute_result",
          "data": {
            "text/plain": [
              "('[SEP]', 102)"
            ]
          },
          "metadata": {
            "tags": []
          },
          "execution_count": 20
        }
      ]
    },
    {
      "cell_type": "markdown",
      "metadata": {
        "id": "m8zm7qun4uxL"
      },
      "source": [
        "CLS Tells bert we are interestedin classification"
      ]
    },
    {
      "cell_type": "code",
      "metadata": {
        "colab": {
          "base_uri": "https://localhost:8080/"
        },
        "id": "SYLGOz9i4VRu",
        "outputId": "53fc804b-29a4-4120-8333-5210fd19a2ae"
      },
      "source": [
        "tokenizer.cls_token, tokenizer.cls_token_id"
      ],
      "execution_count": 21,
      "outputs": [
        {
          "output_type": "execute_result",
          "data": {
            "text/plain": [
              "('[CLS]', 101)"
            ]
          },
          "metadata": {
            "tags": []
          },
          "execution_count": 21
        }
      ]
    },
    {
      "cell_type": "code",
      "metadata": {
        "colab": {
          "base_uri": "https://localhost:8080/"
        },
        "id": "hu5cThEr4fSs",
        "outputId": "0bc97f01-31b0-41b1-e68a-de57f67a7bb4"
      },
      "source": [
        "tokenizer.pad_token, tokenizer.pad_token_id"
      ],
      "execution_count": 22,
      "outputs": [
        {
          "output_type": "execute_result",
          "data": {
            "text/plain": [
              "('[PAD]', 0)"
            ]
          },
          "metadata": {
            "tags": []
          },
          "execution_count": 22
        }
      ]
    },
    {
      "cell_type": "code",
      "metadata": {
        "colab": {
          "base_uri": "https://localhost:8080/"
        },
        "id": "YW6_3gaz400P",
        "outputId": "19dcf77a-baf9-4ccb-e623-3b994d7a0349"
      },
      "source": [
        "tokenizer.unk_token, tokenizer.unk_token_id"
      ],
      "execution_count": 23,
      "outputs": [
        {
          "output_type": "execute_result",
          "data": {
            "text/plain": [
              "('[UNK]', 100)"
            ]
          },
          "metadata": {
            "tags": []
          },
          "execution_count": 23
        }
      ]
    },
    {
      "cell_type": "markdown",
      "metadata": {
        "id": "-Lfq55Wc5Jzx"
      },
      "source": [
        "Do all the encoding for BERT"
      ]
    },
    {
      "cell_type": "code",
      "metadata": {
        "colab": {
          "base_uri": "https://localhost:8080/"
        },
        "id": "YCP3oe3T5Oi4",
        "outputId": "19e6e229-c76f-47cd-9ef9-046da8fb5934"
      },
      "source": [
        "encoding = tokenizer.encode_plus(\r\n",
        "    sample_txt,\r\n",
        "    max_length=32,\r\n",
        "    add_special_tokens=True,\r\n",
        "    pad_to_max_length=True,\r\n",
        "    return_attention_mask=True,\r\n",
        "    return_token_type_ids=False,\r\n",
        "    return_tensors='pt'\r\n",
        "    )\r\n",
        "\r\n",
        "encoding.keys()"
      ],
      "execution_count": 24,
      "outputs": [
        {
          "output_type": "execute_result",
          "data": {
            "text/plain": [
              "dict_keys(['input_ids', 'attention_mask'])"
            ]
          },
          "metadata": {
            "tags": []
          },
          "execution_count": 24
        }
      ]
    },
    {
      "cell_type": "code",
      "metadata": {
        "colab": {
          "base_uri": "https://localhost:8080/"
        },
        "id": "UH6Cr-sK6EIs",
        "outputId": "6ae0a5cc-dd64-4faf-bb6c-47317364bd2b"
      },
      "source": [
        "encoding['input_ids']"
      ],
      "execution_count": 25,
      "outputs": [
        {
          "output_type": "execute_result",
          "data": {
            "text/plain": [
              "tensor([[  101, 12242, 10134,   146, 12469, 17555,   136,   146, 10392, 28780,\n",
              "         31746, 10160, 11816, 10142,   123, 20750,   119,   102,     0,     0,\n",
              "             0,     0,     0,     0,     0,     0,     0,     0,     0,     0,\n",
              "             0,     0]])"
            ]
          },
          "metadata": {
            "tags": []
          },
          "execution_count": 25
        }
      ]
    },
    {
      "cell_type": "code",
      "metadata": {
        "colab": {
          "base_uri": "https://localhost:8080/"
        },
        "id": "vgPBeSrV6cZc",
        "outputId": "5125c755-1e24-4953-b90e-1256a10f7e85"
      },
      "source": [
        "len(encoding['input_ids'][0])"
      ],
      "execution_count": 26,
      "outputs": [
        {
          "output_type": "execute_result",
          "data": {
            "text/plain": [
              "32"
            ]
          },
          "metadata": {
            "tags": []
          },
          "execution_count": 26
        }
      ]
    },
    {
      "cell_type": "code",
      "metadata": {
        "colab": {
          "base_uri": "https://localhost:8080/"
        },
        "id": "UCBMNQzjahnr",
        "outputId": "0583fe63-dc6b-4917-d55f-a3570c4091a1"
      },
      "source": [
        "encoding['attention_mask']"
      ],
      "execution_count": 27,
      "outputs": [
        {
          "output_type": "execute_result",
          "data": {
            "text/plain": [
              "tensor([[1, 1, 1, 1, 1, 1, 1, 1, 1, 1, 1, 1, 1, 1, 1, 1, 1, 1, 0, 0, 0, 0, 0, 0,\n",
              "         0, 0, 0, 0, 0, 0, 0, 0]])"
            ]
          },
          "metadata": {
            "tags": []
          },
          "execution_count": 27
        }
      ]
    },
    {
      "cell_type": "markdown",
      "metadata": {
        "id": "3rxoLStWbhgB"
      },
      "source": [
        "Choosing seq Length"
      ]
    },
    {
      "cell_type": "code",
      "metadata": {
        "id": "6LWd8WmPbaPX"
      },
      "source": [
        "token_lens = []\r\n",
        "\r\n",
        "for txt in df.content:\r\n",
        "  tokens = tokenizer.encode(txt, max_length=512)\r\n",
        "  token_lens.append(len(tokens))\r\n"
      ],
      "execution_count": 28,
      "outputs": []
    },
    {
      "cell_type": "code",
      "metadata": {
        "colab": {
          "base_uri": "https://localhost:8080/",
          "height": 450
        },
        "id": "iqj_utRNbw19",
        "outputId": "0a5770b2-b055-4967-97cf-ab500114b16d"
      },
      "source": [
        "sns.distplot(token_lens)"
      ],
      "execution_count": 29,
      "outputs": [
        {
          "output_type": "stream",
          "text": [
            "/usr/local/lib/python3.7/dist-packages/seaborn/distributions.py:2557: FutureWarning: `distplot` is a deprecated function and will be removed in a future version. Please adapt your code to use either `displot` (a figure-level function with similar flexibility) or `histplot` (an axes-level function for histograms).\n",
            "  warnings.warn(msg, FutureWarning)\n"
          ],
          "name": "stderr"
        },
        {
          "output_type": "execute_result",
          "data": {
            "text/plain": [
              "<matplotlib.axes._subplots.AxesSubplot at 0x7f51ee18ff90>"
            ]
          },
          "metadata": {
            "tags": []
          },
          "execution_count": 29
        },
        {
          "output_type": "display_data",
          "data": {
            "image/png": "[encoded data removed]",
            "text/plain": [
              "<Figure size 432x432 with 1 Axes>"
            ]
          },
          "metadata": {
            "tags": [],
            "image/png": {
              "width": 422,
              "height": 363
            }
          }
        }
      ]
    },
    {
      "cell_type": "markdown",
      "metadata": {
        "id": "N3k06yNcb8Pa"
      },
      "source": [
        "Create a Dataset"
      ]
    },
    {
      "cell_type": "code",
      "metadata": {
        "id": "33fwUGwDb_K_"
      },
      "source": [
        "class GPReviewDataset(data.Dataset):\r\n",
        "\r\n",
        "  def __init__(self, review, target, tokenizer, max_len):\r\n",
        "    self.review = review\r\n",
        "    self.target = target\r\n",
        "    self.tokenizer = tokenizer\r\n",
        "    self.max_len = max_len\r\n",
        "\r\n",
        "  def __len__(self):\r\n",
        "    return len(self.review)\r\n",
        "\r\n",
        "  def __getitem__(self, item):\r\n",
        "    review = str(self.review[item])\r\n",
        "    target = self.target[item]\r\n",
        "    encoding = tokenizer.encode_plus(\r\n",
        "      review,\r\n",
        "      max_length=self.max_len,\r\n",
        "      add_special_tokens=True,\r\n",
        "      pad_to_max_length=True,\r\n",
        "      return_attention_mask=True,\r\n",
        "      return_token_type_ids=False,\r\n",
        "      return_tensors='pt'\r\n",
        "    )\r\n",
        "    \r\n",
        "    return {\r\n",
        "      'review_text': review,\r\n",
        "      'input_ids': encoding['input_ids'].flatten(),\r\n",
        "      'attention_mask': encoding['attention_mask'].flatten(),\r\n",
        "      'targets' : torch.tensor(self.target[item], dtype=torch.long)\r\n",
        "    }"
      ],
      "execution_count": 30,
      "outputs": []
    },
    {
      "cell_type": "markdown",
      "metadata": {
        "id": "aiZV8ZZ-dfTp"
      },
      "source": [
        "Constants"
      ]
    },
    {
      "cell_type": "code",
      "metadata": {
        "id": "5aDiCDlAdbb4"
      },
      "source": [
        "MAX_LEN =128\r\n",
        "BATCH_SIZE = 8\r\n",
        "EPOCHS = 6"
      ],
      "execution_count": 94,
      "outputs": []
    },
    {
      "cell_type": "markdown",
      "metadata": {
        "id": "Ej-hr0LRdmpU"
      },
      "source": [
        "Create splits with scikit learn"
      ]
    },
    {
      "cell_type": "markdown",
      "metadata": {
        "id": "SmvWQECe4m8x"
      },
      "source": [
        "MY DATA"
      ]
    },
    {
      "cell_type": "code",
      "metadata": {
        "id": "pBDu3FEm4mRb"
      },
      "source": [
        "import random\r\n",
        "\r\n",
        "def create_datalist_keras():\r\n",
        "\twith open(\"0_a.txt\",encoding='utf-8') as f:\r\n",
        "\t\tneg = f.readlines()\r\n",
        "\twith open(\"1_a.txt\",encoding='utf-8') as f:\r\n",
        "\t\tpos = f.readlines()\r\n",
        "\tall_data = []\r\n",
        "\tall_labels = []\r\n",
        "\tfor a in neg[:200]:\r\n",
        "\t\tall_data.append(a.replace(\"\\n\",\"\"))\r\n",
        "\t\tall_labels.append(0)\r\n",
        "\tfor a in pos:\r\n",
        "\t\tall_data.append(a.replace(\"\\n\", \"\"))\r\n",
        "\t\tall_labels.append(1)\r\n",
        "\tc = list(zip(all_data, all_labels))\r\n",
        "\trandom.shuffle(c)\r\n",
        "\ta, b = zip(*c)\r\n",
        "\treturn list(a), list(b)"
      ],
      "execution_count": 95,
      "outputs": []
    },
    {
      "cell_type": "code",
      "metadata": {
        "colab": {
          "base_uri": "https://localhost:8080/"
        },
        "id": "kx3mS28z4RRw",
        "outputId": "ee555a1f-3856-4a6d-c8a8-5a7e5fb37c6a"
      },
      "source": [
        "\r\n",
        "tweets, y = create_datalist_keras()\r\n",
        "d = {'content': tweets, 'sentiment': y}\r\n",
        "df = pd.DataFrame(data=d)\r\n",
        "print(df)\r\n"
      ],
      "execution_count": 96,
      "outputs": [
        {
          "output_type": "stream",
          "text": [
            "                                               content  sentiment\n",
            "0    @Elquee \"Heute finden, dass eine 21-Jährige ni...          0\n",
            "1    @frankschellhase @Kttel6 @Tino_Chrupalla Oh ma...          1\n",
            "2    @wavecrestthinks *Die Zahl der Impfdosen wird ...          0\n",
            "3                    @bengt__r Vielleicht search?q=🚓 ?          0\n",
            "4    @Banshee_112 Sieht doch lecker aus 🤤👍🏼 Klar, s...          0\n",
            "..                                                 ...        ...\n",
            "295  @marbrumm @Karl_Lauterbach Du glaubst aber auc...          1\n",
            "296  @v_Wittgenstein Sehr geehrte Frau von Sayn-Wit...          0\n",
            "297  @zuckerfresse @TheManiacGirl29 @zimbo97_ Sind ...          0\n",
            "298  @SimonRosner @Natascha_Strobl @WRiedler @OlafG...          1\n",
            "299  Die (angeblich) erste Dosis #Impfstoff ging an...          1\n",
            "\n",
            "[300 rows x 2 columns]\n"
          ],
          "name": "stdout"
        }
      ]
    },
    {
      "cell_type": "code",
      "metadata": {
        "id": "YlZY4pymdluc"
      },
      "source": [
        "df_train, df_test = train_test_split(df, test_size=0.2, random_state=RANDOM_SEED)\r\n",
        "df_val, df_test = train_test_split(df_test, test_size=0.5, random_state=RANDOM_SEED)"
      ],
      "execution_count": 97,
      "outputs": []
    },
    {
      "cell_type": "code",
      "metadata": {
        "colab": {
          "base_uri": "https://localhost:8080/"
        },
        "id": "EQQ690a2eJVP",
        "outputId": "8f0f97c8-bb5c-4d21-f6d6-8fad42d57d58"
      },
      "source": [
        "df_train.shape, df_val.shape, df_test.shape"
      ],
      "execution_count": 98,
      "outputs": [
        {
          "output_type": "execute_result",
          "data": {
            "text/plain": [
              "((240, 2), (30, 2), (30, 2))"
            ]
          },
          "metadata": {
            "tags": []
          },
          "execution_count": 98
        }
      ]
    },
    {
      "cell_type": "markdown",
      "metadata": {
        "id": "oEZ-t0A5eRqg"
      },
      "source": [
        "Create Data Loader for Pytorch"
      ]
    },
    {
      "cell_type": "code",
      "metadata": {
        "id": "xvA3L4VOeQ8a"
      },
      "source": [
        "def create_data_loader(df, tokenizer, max_len, batch_size):\r\n",
        "  ds = GPReviewDataset(\r\n",
        "      review=df.content.to_numpy(),\r\n",
        "      target=df.sentiment.to_numpy(),\r\n",
        "      tokenizer=tokenizer,\r\n",
        "      max_len=max_len\r\n",
        "  )\r\n",
        "  return data.DataLoader(\r\n",
        "      ds,\r\n",
        "      batch_size=batch_size,\r\n",
        "      num_workers=1\r\n",
        "  )"
      ],
      "execution_count": 99,
      "outputs": []
    },
    {
      "cell_type": "markdown",
      "metadata": {
        "id": "-HQ8ugJdfv_E"
      },
      "source": [
        "Loaders for different datasplits"
      ]
    },
    {
      "cell_type": "code",
      "metadata": {
        "id": "dy5o7RM9fqdF"
      },
      "source": [
        "train_data_loader = create_data_loader(df_train, tokenizer, MAX_LEN, BATCH_SIZE)\r\n",
        "val_data_loader = create_data_loader(df_val, tokenizer, MAX_LEN, BATCH_SIZE)\r\n",
        "test_data_loader = create_data_loader(df_test, tokenizer, MAX_LEN, BATCH_SIZE)"
      ],
      "execution_count": 100,
      "outputs": []
    },
    {
      "cell_type": "markdown",
      "metadata": {
        "id": "LDLdF-H8grWC"
      },
      "source": [
        "Iterate over Dataloader with next(iter("
      ]
    },
    {
      "cell_type": "code",
      "metadata": {
        "colab": {
          "base_uri": "https://localhost:8080/"
        },
        "id": "aGMm7E_ngmVf",
        "outputId": "0c4828cb-a15e-411f-e96b-d9d0c1bd61d5"
      },
      "source": [
        "p = next(iter(train_data_loader))\r\n",
        "p.keys()"
      ],
      "execution_count": 101,
      "outputs": [
        {
          "output_type": "execute_result",
          "data": {
            "text/plain": [
              "dict_keys(['review_text', 'input_ids', 'attention_mask', 'targets'])"
            ]
          },
          "metadata": {
            "tags": []
          },
          "execution_count": 101
        }
      ]
    },
    {
      "cell_type": "code",
      "metadata": {
        "colab": {
          "base_uri": "https://localhost:8080/"
        },
        "id": "KTcsdZD4sTZ1",
        "outputId": "16f26164-61ab-493a-f046-922d1b9b6e42"
      },
      "source": [
        "print(p['input_ids'].shape)\r\n",
        "print(p['attention_mask'].shape)\r\n",
        "print(p['targets'].shape)"
      ],
      "execution_count": 102,
      "outputs": [
        {
          "output_type": "stream",
          "text": [
            "torch.Size([8, 128])\n",
            "torch.Size([8, 128])\n",
            "torch.Size([8])\n"
          ],
          "name": "stdout"
        }
      ]
    },
    {
      "cell_type": "markdown",
      "metadata": {
        "id": "poTgmcSIXhhb"
      },
      "source": [
        "HERE MODEL IS DEFINED AND BUILT"
      ]
    },
    {
      "cell_type": "markdown",
      "metadata": {
        "id": "fIVcboO5Zmad"
      },
      "source": [
        "load model"
      ]
    },
    {
      "cell_type": "code",
      "metadata": {
        "id": "secwY8pYXtpL"
      },
      "source": [
        "bert_model = transformers.BertModel.from_pretrained(PRE_TRAINED_MODEL_NAME)"
      ],
      "execution_count": 103,
      "outputs": []
    },
    {
      "cell_type": "markdown",
      "metadata": {
        "id": "XYLh8OxTZoQt"
      },
      "source": [
        "Call Model using input ids and attention mask. Returns Last hidden state from last encoder of bert and pooled output\r\n",
        "UPDATE: return_dict = False for Tuples"
      ]
    },
    {
      "cell_type": "code",
      "metadata": {
        "id": "3yx_EOElZkT8"
      },
      "source": [
        "last_hidden_state, pooled_output = bert_model(\r\n",
        "    input_ids = encoding['input_ids'],\r\n",
        "    attention_mask = encoding['attention_mask']\r\n",
        ")"
      ],
      "execution_count": 104,
      "outputs": []
    },
    {
      "cell_type": "code",
      "metadata": {
        "colab": {
          "base_uri": "https://localhost:8080/"
        },
        "id": "bWqvhkdvaPwB",
        "outputId": "cbc4c604-e38b-4e83-e7a5-c11b963a7739"
      },
      "source": [
        "last_hidden_state.shape"
      ],
      "execution_count": 105,
      "outputs": [
        {
          "output_type": "execute_result",
          "data": {
            "text/plain": [
              "torch.Size([1, 32, 768])"
            ]
          },
          "metadata": {
            "tags": []
          },
          "execution_count": 105
        }
      ]
    },
    {
      "cell_type": "markdown",
      "metadata": {
        "id": "3WRJtMUdbH-K"
      },
      "source": [
        "Bert Pooler: tanh function on last hidden state"
      ]
    },
    {
      "cell_type": "code",
      "metadata": {
        "id": "dx4hcefea8-D",
        "colab": {
          "base_uri": "https://localhost:8080/"
        },
        "outputId": "9d09bbf4-2815-442c-d128-e4d293240c11"
      },
      "source": [
        "pooled_output.shape"
      ],
      "execution_count": 106,
      "outputs": [
        {
          "output_type": "execute_result",
          "data": {
            "text/plain": [
              "torch.Size([1, 768])"
            ]
          },
          "metadata": {
            "tags": []
          },
          "execution_count": 106
        }
      ]
    },
    {
      "cell_type": "markdown",
      "metadata": {
        "id": "mV_8m_XsbUSS"
      },
      "source": [
        "Building the classifier now"
      ]
    },
    {
      "cell_type": "code",
      "metadata": {
        "id": "QKuHR7EtbO4e"
      },
      "source": [
        "class SentimentClassifier(nn.Module):\r\n",
        "\r\n",
        "  def __init__(self, n_classes):\r\n",
        "    super(SentimentClassifier, self).__init__()\r\n",
        "    self.bert = transformers.BertModel.from_pretrained(PRE_TRAINED_MODEL_NAME)\r\n",
        "    self.drop = nn.Dropout(p=0.1)\r\n",
        "    self.out = nn.Linear(self.bert.config.hidden_size, n_classes)\r\n",
        "    self.softmax = nn.Softmax(dim=1)\r\n",
        "\r\n",
        "  def forward(self, input_ids, attention_mask):\r\n",
        "    _, pooled_output = self.bert(\r\n",
        "        input_ids = input_ids,\r\n",
        "        attention_mask = attention_mask,\r\n",
        "    )\r\n",
        "    output = self.drop(pooled_output)\r\n",
        "    return self.out(output)"
      ],
      "execution_count": 107,
      "outputs": []
    },
    {
      "cell_type": "markdown",
      "metadata": {
        "id": "K_UMUti0dHGZ"
      },
      "source": [
        "Initializing Classifier"
      ]
    },
    {
      "cell_type": "code",
      "metadata": {
        "id": "UzW9EJtOeLwv",
        "colab": {
          "base_uri": "https://localhost:8080/"
        },
        "outputId": "63764c63-21f3-4bef-948a-a306203eadce"
      },
      "source": [
        "!nvidia-smi"
      ],
      "execution_count": 108,
      "outputs": [
        {
          "output_type": "stream",
          "text": [
            "Wed Mar 17 20:11:08 2021       \n",
            "+-----------------------------------------------------------------------------+\n",
            "| NVIDIA-SMI 460.56       Driver Version: 460.32.03    CUDA Version: 11.2     |\n",
            "|-------------------------------+----------------------+----------------------+\n",
            "| GPU  Name        Persistence-M| Bus-Id        Disp.A | Volatile Uncorr. ECC |\n",
            "| Fan  Temp  Perf  Pwr:Usage/Cap|         Memory-Usage | GPU-Util  Compute M. |\n",
            "|                               |                      |               MIG M. |\n",
            "|===============================+======================+======================|\n",
            "|   0  Tesla T4            Off  | 00000000:00:04.0 Off |                    0 |\n",
            "| N/A   59C    P0    30W /  70W |   7008MiB / 15109MiB |      0%      Default |\n",
            "|                               |                      |                  N/A |\n",
            "+-------------------------------+----------------------+----------------------+\n",
            "                                                                               \n",
            "+-----------------------------------------------------------------------------+\n",
            "| Processes:                                                                  |\n",
            "|  GPU   GI   CI        PID   Type   Process name                  GPU Memory |\n",
            "|        ID   ID                                                   Usage      |\n",
            "|=============================================================================|\n",
            "+-----------------------------------------------------------------------------+\n"
          ],
          "name": "stdout"
        }
      ]
    },
    {
      "cell_type": "code",
      "metadata": {
        "id": "ko9TenBUc4RQ"
      },
      "source": [
        "model = SentimentClassifier(2)\r\n",
        "model = model.to('cuda')"
      ],
      "execution_count": 109,
      "outputs": []
    },
    {
      "cell_type": "markdown",
      "metadata": {
        "id": "HqdNt0ame_mS"
      },
      "source": [
        "Input Ids and Attention masks to gpu as well\r\n",
        "REMEMBER p = data"
      ]
    },
    {
      "cell_type": "code",
      "metadata": {
        "colab": {
          "base_uri": "https://localhost:8080/"
        },
        "id": "UPm4Myxqe_Ee",
        "outputId": "32a0c87b-8614-456d-fb3a-fab930965b55"
      },
      "source": [
        "input_ids = p['input_ids'].to('cuda')\r\n",
        "attention_mask = p['attention_mask'].to('cuda')\r\n",
        "\r\n",
        "print(input_ids.shape)\r\n",
        "print(attention_mask.shape)"
      ],
      "execution_count": 110,
      "outputs": [
        {
          "output_type": "stream",
          "text": [
            "torch.Size([8, 128])\n",
            "torch.Size([8, 128])\n"
          ],
          "name": "stdout"
        }
      ]
    },
    {
      "cell_type": "markdown",
      "metadata": {
        "id": "zqFh7Lv5frQ0"
      },
      "source": [
        "feed data to model"
      ]
    },
    {
      "cell_type": "code",
      "metadata": {
        "colab": {
          "base_uri": "https://localhost:8080/"
        },
        "id": "leVBdRLVfqRm",
        "outputId": "d606e2d5-6eed-46d0-dd2e-1c4b4c22999c"
      },
      "source": [
        "torch.functional.F.softmax(model(input_ids, attention_mask), dim=1)"
      ],
      "execution_count": 111,
      "outputs": [
        {
          "output_type": "execute_result",
          "data": {
            "text/plain": [
              "tensor([[0.4725, 0.5275],\n",
              "        [0.5217, 0.4783],\n",
              "        [0.4574, 0.5426],\n",
              "        [0.4799, 0.5201],\n",
              "        [0.4229, 0.5771],\n",
              "        [0.4507, 0.5493],\n",
              "        [0.4656, 0.5344],\n",
              "        [0.4687, 0.5313]], device='cuda:0', grad_fn=<SoftmaxBackward>)"
            ]
          },
          "metadata": {
            "tags": []
          },
          "execution_count": 111
        }
      ]
    },
    {
      "cell_type": "markdown",
      "metadata": {
        "id": "fOJzGlXCgUP-"
      },
      "source": [
        "How training works"
      ]
    },
    {
      "cell_type": "code",
      "metadata": {
        "id": "GzZTM60fgWr9"
      },
      "source": [
        "optimizer = transformers.AdamW(model.parameters(), lr=2e-5, correct_bias=False)\r\n",
        "\r\n",
        "total_steps = len(train_data_loader) * EPOCHS\r\n",
        "\r\n",
        "scheduler = transformers.get_linear_schedule_with_warmup(\r\n",
        "    optimizer,\r\n",
        "    num_warmup_steps=0,\r\n",
        "    num_training_steps=total_steps\r\n",
        ")\r\n",
        "\r\n",
        "loss_fn = nn.CrossEntropyLoss().to('cuda')"
      ],
      "execution_count": 112,
      "outputs": []
    },
    {
      "cell_type": "markdown",
      "metadata": {
        "id": "CxGtcOqAhVOQ"
      },
      "source": [
        "Helper function for training"
      ]
    },
    {
      "cell_type": "code",
      "metadata": {
        "id": "U9tB87FlhXET"
      },
      "source": [
        "def train_epoch(\r\n",
        "    model,\r\n",
        "    data_loader,\r\n",
        "    loss_fn,\r\n",
        "    optimizer,\r\n",
        "    device,\r\n",
        "    scheduler,\r\n",
        "    n_examples\r\n",
        "):\r\n",
        "  model = model.train()\r\n",
        "  losses = []\r\n",
        "  correct_predictions = 0\r\n",
        "\r\n",
        "  for d in data_loader:\r\n",
        "    input_ids = d['input_ids'].to('cuda')\r\n",
        "    attention_mask = d['attention_mask'].to('cuda')\r\n",
        "    targets = d['targets'].to('cuda')\r\n",
        "\r\n",
        "    outputs = model(\r\n",
        "        input_ids=input_ids,\r\n",
        "        attention_mask=attention_mask\r\n",
        "    )\r\n",
        "    _, preds = torch.max(outputs,dim=1)\r\n",
        "    loss = loss_fn(outputs, targets)\r\n",
        "    correct_predictions += torch.sum(preds == targets)\r\n",
        "    losses.append(loss.item())\r\n",
        "\r\n",
        "    loss.backward()\r\n",
        "    nn.utils.clip_grad_norm_(model.parameters(), max_norm=1.0) # _ in end means in_place\r\n",
        "    # gradient clip is a hack to make sure gradients dont become too large\r\n",
        "    optimizer.step()\r\n",
        "    scheduler.step() # adjusts learning_rate\r\n",
        "    optimizer.zero_grad() # zero out losses before next step\r\n",
        "\r\n",
        "  return correct_predictions.double()/n_examples , np.mean(losses)\r\n",
        "  # return number of correct predictions and mean loss\r\n",
        "\r\n"
      ],
      "execution_count": 113,
      "outputs": []
    },
    {
      "cell_type": "markdown",
      "metadata": {
        "id": "ddkisY4ejyVv"
      },
      "source": [
        "Function to evaluate model"
      ]
    },
    {
      "cell_type": "code",
      "metadata": {
        "id": "fda_vONkj0-z"
      },
      "source": [
        "def eval_model(model, data_loader, loss_fn, device, n_examples):\r\n",
        "  model = model.eval()\r\n",
        "\r\n",
        "  losses = []\r\n",
        "  correct_predictions = 0\r\n",
        "\r\n",
        "  with torch.no_grad(): # disable gradient function to make torch faster while eval\r\n",
        "    for d in data_loader:\r\n",
        "\r\n",
        "      input_ids = d['input_ids'].to('cuda')\r\n",
        "      attention_mask = d['attention_mask'].to('cuda')\r\n",
        "      targets = d['targets'].to('cuda')\r\n",
        "\r\n",
        "      outputs = model(\r\n",
        "          input_ids=input_ids,\r\n",
        "          attention_mask=attention_mask\r\n",
        "      )\r\n",
        "\r\n",
        "      _, preds = torch.max(outputs,dim=1)\r\n",
        "      loss = loss_fn(outputs, targets)\r\n",
        "\r\n",
        "      correct_predictions += torch.sum(preds == targets)\r\n",
        "      losses.append(loss.item())\r\n",
        "  return correct_predictions.double()/n_examples , np.mean(losses)\r\n"
      ],
      "execution_count": 114,
      "outputs": []
    },
    {
      "cell_type": "markdown",
      "metadata": {
        "id": "h6ObR2mUkt9i"
      },
      "source": [
        "Create Training Loop with eval function"
      ]
    },
    {
      "cell_type": "code",
      "metadata": {
        "colab": {
          "base_uri": "https://localhost:8080/"
        },
        "id": "JqP1t9-skxCE",
        "outputId": "fe56f69b-538a-469c-9131-596507c9512a"
      },
      "source": [
        "\r\n",
        "from collections import defaultdict\r\n",
        "\r\n",
        "history = defaultdict(list)\r\n",
        "best_accuracy = 0\r\n",
        "\r\n",
        "for epoch in range(EPOCHS):\r\n",
        "  print(f'Epoch {epoch + 1}/{EPOCHS}' )\r\n",
        "  print('-' * 10)\r\n",
        "\r\n",
        "  train_acc, train_loss = train_epoch(\r\n",
        "      model,\r\n",
        "      train_data_loader,\r\n",
        "      loss_fn,\r\n",
        "      optimizer,\r\n",
        "      'cuda',\r\n",
        "      scheduler,\r\n",
        "      len(df_train)\r\n",
        "  )\r\n",
        "\r\n",
        "  print(f'Train loss {train_loss} accuracy {train_acc}')\r\n",
        "\r\n",
        "  val_acc, val_loss = eval_model(\r\n",
        "      model,\r\n",
        "      val_data_loader,\r\n",
        "      loss_fn,\r\n",
        "      'cuda',\r\n",
        "      len(df_val)\r\n",
        "  )\r\n",
        "\r\n",
        "  print(f'Val loss {val_loss} accuracy {val_acc}')\r\n",
        "  print()\r\n",
        "\r\n",
        "  history['train_acc'].append(train_acc)\r\n",
        "  history['train_loss'].append(train_loss)\r\n",
        "\r\n",
        "  history['val_acc'].append(val_acc)\r\n",
        "  history['val_loss'].append(val_loss)\r\n",
        "\r\n",
        "  if val_acc < best_accuracy:\r\n",
        "    torch.save(model.state_dict(), 'model.pth')\r\n",
        "    best_accuracy = val_acc\r\n",
        "\r\n"
      ],
      "execution_count": 115,
      "outputs": [
        {
          "output_type": "stream",
          "text": [
            "Epoch 1/6\n",
            "----------\n",
            "Train loss 0.5650319874286651 accuracy 0.6791666666666667\n",
            "Val loss 0.44384337961673737 accuracy 0.6666666666666666\n",
            "\n",
            "Epoch 2/6\n",
            "----------\n",
            "Train loss 0.37277256871263187 accuracy 0.7625\n",
            "Val loss 0.4446265995502472 accuracy 0.7333333333333333\n",
            "\n",
            "Epoch 3/6\n",
            "----------\n",
            "Train loss 0.30452768231431643 accuracy 0.8833333333333333\n",
            "Val loss 0.6162327080965042 accuracy 0.7333333333333333\n",
            "\n",
            "Epoch 4/6\n",
            "----------\n",
            "Train loss 0.0869558415065209 accuracy 0.975\n",
            "Val loss 1.128327526152134 accuracy 0.7333333333333333\n",
            "\n",
            "Epoch 5/6\n",
            "----------\n",
            "Train loss 0.022772160172462464 accuracy 0.9958333333333333\n",
            "Val loss 1.324001856148243 accuracy 0.7333333333333333\n",
            "\n",
            "Epoch 6/6\n",
            "----------\n",
            "Train loss 0.03627626126011212 accuracy 0.9874999999999999\n",
            "Val loss 1.5249891057610512 accuracy 0.7333333333333333\n",
            "\n"
          ],
          "name": "stdout"
        }
      ]
    },
    {
      "cell_type": "code",
      "metadata": {
        "colab": {
          "base_uri": "https://localhost:8080/",
          "height": 415
        },
        "id": "wTwvIKzIwykh",
        "outputId": "b17aac52-77fa-4e7e-c70b-ac1105201954"
      },
      "source": [
        "plt.plot(history['train_acc'], label='train accuracy')\r\n",
        "plt.plot(history['val_acc'], label='validation accuracy')\r\n",
        "plt.title('Training history')\r\n",
        "plt.ylabel('Accuracy')\r\n",
        "plt.xlabel('Epoch')\r\n",
        "plt.legend()\r\n",
        "plt.ylim([0, 1]);"
      ],
      "execution_count": 116,
      "outputs": [
        {
          "output_type": "display_data",
          "data": {
            "image/png": "[encoded data removed]",
            "text/plain": [
              "<Figure size 432x432 with 1 Axes>"
            ]
          },
          "metadata": {
            "tags": [],
            "image/png": {
              "width": 397,
              "height": 398
            }
          }
        }
      ]
    },
    {
      "cell_type": "markdown",
      "metadata": {
        "id": "lBc4lN58nVTm"
      },
      "source": [
        "SAVE MODEL FOR EVAL"
      ]
    },
    {
      "cell_type": "code",
      "metadata": {
        "id": "G6T9RzvBnctC"
      },
      "source": [
        "#MODEL_PATH = 'aufk_model1.bin'\r\n",
        "#torch.save(model.state_dict(), MODEL_PATH)\r\n",
        "\r\n",
        "#model = SentimentClassifier(2)\r\n",
        "#model.load_state_dict('aufk_model1.bin')\r\n",
        "#model = model.to('cuda')"
      ],
      "execution_count": 117,
      "outputs": []
    },
    {
      "cell_type": "markdown",
      "metadata": {
        "id": "iFXKfKyKoY1i"
      },
      "source": [
        "EVALUATION"
      ]
    },
    {
      "cell_type": "code",
      "metadata": {
        "id": "sbZvuJyvoavd"
      },
      "source": [
        "def get_reviews(model, data_loader):\r\n",
        "  model = model.eval()\r\n",
        "\r\n",
        "  review_texts = []\r\n",
        "  predictions = []\r\n",
        "  prediction_probs = []\r\n",
        "  real_values = []\r\n",
        "\r\n",
        "  with torch.no_grad(): # disable gradient function to make torch faster while eval\r\n",
        "    for d in data_loader:\r\n",
        "      texts = d['review_text']\r\n",
        "      input_ids = d['input_ids'].to('cuda')\r\n",
        "      attention_mask = d['attention_mask'].to('cuda')\r\n",
        "      targets = d['targets'].to('cuda')\r\n",
        "\r\n",
        "      outputs = model(\r\n",
        "          input_ids=input_ids,\r\n",
        "          attention_mask=attention_mask\r\n",
        "      )\r\n",
        "\r\n",
        "      _, preds = torch.max(outputs,dim=1)\r\n",
        "      \r\n",
        "      review_texts.extend(texts) # same as append but for more values at once \r\n",
        "      predictions.extend(preds)\r\n",
        "      prediction_probs.extend(outputs)\r\n",
        "      real_values.extend(targets)\r\n",
        "\r\n",
        "  predictions = torch.stack(predictions).cpu() # make tensors of lists\r\n",
        "  prediction_probs = torch.stack(prediction_probs).cpu() # make tensors of lists\r\n",
        "  real_values = torch.stack(real_values).cpu() # make tensors of lists\r\n",
        "\r\n",
        "  return review_texts, predictions, prediction_probs, real_values\r\n"
      ],
      "execution_count": 118,
      "outputs": []
    },
    {
      "cell_type": "code",
      "metadata": {
        "colab": {
          "base_uri": "https://localhost:8080/"
        },
        "id": "hHwZvDAzrJCH",
        "outputId": "2104c06f-c725-4452-a51c-5818fda24942"
      },
      "source": [
        "test_acc, test_loss = eval_model(model, test_data_loader, loss_fn,'cuda',len(df_test))\r\n",
        "print(test_acc)"
      ],
      "execution_count": 119,
      "outputs": [
        {
          "output_type": "stream",
          "text": [
            "tensor(0.8667, device='cuda:0', dtype=torch.float64)\n"
          ],
          "name": "stdout"
        }
      ]
    },
    {
      "cell_type": "code",
      "metadata": {
        "id": "l98H74kWqSxw"
      },
      "source": [
        "y_review_texts, y_pred, y_pred_probs, y_test = get_reviews(model, test_data_loader)"
      ],
      "execution_count": 120,
      "outputs": []
    },
    {
      "cell_type": "code",
      "metadata": {
        "colab": {
          "base_uri": "https://localhost:8080/"
        },
        "id": "D_K-yRb9ricp",
        "outputId": "65f87a6b-323a-419e-cb3a-d538de576c24"
      },
      "source": [
        "from sklearn.metrics import confusion_matrix, classification_report\r\n",
        "\r\n",
        "print(classification_report(y_test,y_pred))"
      ],
      "execution_count": 121,
      "outputs": [
        {
          "output_type": "stream",
          "text": [
            "              precision    recall  f1-score   support\n",
            "\n",
            "           0       0.94      0.83      0.88        18\n",
            "           1       0.79      0.92      0.85        12\n",
            "\n",
            "    accuracy                           0.87        30\n",
            "   macro avg       0.86      0.88      0.86        30\n",
            "weighted avg       0.88      0.87      0.87        30\n",
            "\n"
          ],
          "name": "stdout"
        }
      ]
    },
    {
      "cell_type": "code",
      "metadata": {
        "colab": {
          "base_uri": "https://localhost:8080/"
        },
        "id": "y7iEPouesD_l",
        "outputId": "7be4ba99-e50c-487a-a21f-ed090666ee51"
      },
      "source": [
        "for a in range(len(y_review_texts)):\r\n",
        "  print(y_review_texts[a]+\" --- \"+ str(y_pred[a])+\" | \"+str(y_pred_probs[a])+\" | \"+ str(y_test[a]))"
      ],
      "execution_count": 122,
      "outputs": [
        {
          "output_type": "stream",
          "text": [
            "War nur als Platzhalter gedacht, weil ich eine gewisse beschönigende Tendenz sehe, wenn es um das Verhalten dieser Bevölkerungsgruppe geht. Genauso schlimm ist, dass der ursprüngliche Clip inzwischen gelöscht wurde. Man will nicht, dass Einzelfälle instrumentalisiert werden. 😂🤡 --- tensor(0) | tensor([ 3.2484, -3.7909]) | tensor(0)\n",
            "@SenGPG @dil_kal Wieviele Berliner wurden heute geimpft? --- tensor(1) | tensor([-3.0333,  3.2467]) | tensor(1)\n",
            "Einfach mal 5 Tage Selbstisolation, Corona-Test und trotzdem mit schlechtem Gewissen Eltern besuchen fahren, weil sie sich das so sehr gewünscht haben. Nur um sich so respektlos wie noch nie vom Papa behandeln zu lassen. Nächste Pandemie hör ich auf euch und bleib zu Hause. --- tensor(0) | tensor([ 3.2687, -3.8544]) | tensor(0)\n",
            "@petertauber Schon geimpft worden??? --- tensor(0) | tensor([ 2.5614, -2.9117]) | tensor(0)\n",
            "@Karl_Lauterbach Guten Tag Herr Lauter, ich schätze ihre offene und unaufgeregte Art zum Thema Corona. Können sie mir bitte nachvollziehbar und schlüssig erklären warum Bewohner in Asylunterkünften vor Erzieher/innen und Lehrer/innen geimpft werden ? --- tensor(1) | tensor([-3.0770,  3.3192]) | tensor(1)\n",
            "@zuckerfresse @TheManiacGirl29 @zimbo97_ Sind das nicht Kühe? 🧐 --- tensor(0) | tensor([ 3.2465, -3.8499]) | tensor(0)\n",
            "@GermanCryptoGuy Es kümmert mich wenig bis gar nicht was es erreicht. Ich war nie anti BTC, streue kein FUD, die Tage aber lese ich soviel Hass gegen XRP, dass es mir schwerer fällt mich für gewisse Personen zu freuen. --- tensor(0) | tensor([ 3.2815, -3.8590]) | tensor(0)\n",
            "@Reckert8 Kein Handlungsbedarf. Der Verdienst an Krebstherapien ist viel zu gut. Mit / an Corona sind in diesem Jahr angeblich 20.000 Menschen verstorben. Jedes Jahr infizieren sich 400K-600K mit multiresistenten Keimen wovon 20.000 Menschen sterben. Warum gibt’s da, kein Handlungsbedarf ? --- tensor(1) | tensor([-3.0643,  3.3362]) | tensor(1)\n",
            "Kann mir jemand erklären warum Flüchtlinge in Asylunterkünften als \"Gruppe mit hoher Priorität\" noch vor Feuerwehr und Polizei geimpft werden sollen? #GruppeMitHoherPriorität  https://t.co/32HLPlPmDi --- tensor(1) | tensor([-3.0911,  3.2941]) | tensor(1)\n",
            "Mein Hobby ist ja durch den Wald steppen und Dinge finden. Zum Beispiel eine neue Spezies (handtellergroß, nachtleuchend) und die Verpackung einer Puppe für wenn äh wer nicht alleine spielen will. Die lag da vorgestern noch nicht 🧐🤯 https://t.co/bzXkXnxWDD --- tensor(0) | tensor([ 3.2636, -3.8543]) | tensor(0)\n",
            "@mit_d Darum geht es doch gar nicht 🙄 --- tensor(0) | tensor([ 3.2743, -3.8459]) | tensor(0)\n",
            "@MedUni_Vienna wie kann ich - als risikopatient - am schnellsten geimpft werden? --- tensor(1) | tensor([-3.0585,  3.2937]) | tensor(1)\n",
            "Bestatter gehen in Altenheimen und Krankenhäusern ein und aus und sind auf Veranstaltungen (Bestattungen) unterwegs, bei denen es teilweise keine Teilnehmerbeschränkung gibt. Ab wann werden diese geimpft? Sowas von #systemrelevant @jensspahn @BMG_Bund --- tensor(1) | tensor([-3.0757,  3.2749]) | tensor(1)\n",
            "@anneken04 Ok wie lange wird wahrscheinlich dieser 101 Jährige noch leben? Er kann sich gerne impfen, ist seine Sache, aber auch in UK werden steinalte Menschen zuerst geimpft! Bringt die Impfung überhaupt was? Ist die überhaupt nötig? Wie haben Menschen früher Krankheiten überlebt? --- tensor(1) | tensor([-3.1081,  3.3052]) | tensor(1)\n",
            "seht mal, so geht der von israel bezahlte agitator guttmann bei jeglicher kritik am faschistischem israel vor... jede kritik an israel wird von ihm als antisemitismus abgestempelt! wir lassen uns von niemanden mundtot machen, u schon gar nicht mit dem nazi argument...lächerlich --- tensor(0) | tensor([ 3.2794, -3.8582]) | tensor(0)\n",
            "S-Bahn (S7) fährt im 20 Minuten Takt. Zubringerbus (222) aus den Dörfern am Sonntag/Feiertag im Stundentakt.  Der Bus kommt so an, dass man fast die gesamten 20 Minuten auf die S-Bahn warten muss.  Ernsthaft @MVV_hilft - wer macht solche Fahrpläne? Das muss doch nicht sein  😩 https://t.co/bFOHGspigt --- tensor(1) | tensor([-2.9511,  3.2372]) | tensor(0)\n",
            "@MSGIV_BB @UNonnemacher Wann ist ungefähr damit zu rechnen, dass Schüler:innen und Lehrer:innen geimpft werden? --- tensor(1) | tensor([-3.1062,  3.3120]) | tensor(1)\n",
            "@Eaglepowder Immerhin wurde im Burgenland heute bereits geimpft. Ob der kärntner Kaiser jetzt wirklich bis zum 5. Jänner durchhält? --- tensor(1) | tensor([-2.9697,  3.2759]) | tensor(0)\n",
            "@Uwe_Junge_MdL Es zieht einem die Schuhe aus! Die merken überhaupt nicht mehr, dass sie sogar das Magazin MAD an Witz übertreffen. --- tensor(0) | tensor([ 3.2777, -3.8593]) | tensor(0)\n",
            "srsly sie braucht ihre brille nicht mehr? uuugh #ww84 --- tensor(0) | tensor([ 3.2635, -3.8449]) | tensor(0)\n",
            "@Doerteschreibt Und das ist auch gar nicht der Anspruch, den man haben muss. Man kann seine Geschichte nicht wiederholen. Man muss seine eigene Geschichte schreiben.  Dadurch ist sie einzigartig. --- tensor(0) | tensor([ 3.2624, -3.8218]) | tensor(0)\n",
            "@Markus_Soeder Oha was muss ich denn da lesen? https://t.co/hdYHXl4m9r --- tensor(0) | tensor([ 0.9227, -0.9715]) | tensor(0)\n",
            "@ReneAccentaigue Linkshänder sind angeblich sehr kreativ. Sind Sie das auch?? --- tensor(0) | tensor([ 3.2030, -3.7246]) | tensor(1)\n",
            "Wogegen es bei der Briefwahl keine Sicherheit gibt, ist die Möglichkeit, dass der Wahl-Karteninhaber bei seiner Stimmabgabe, dem Ankreuzen auf dem Stimmzettel, nicht freien Willens handeln kann. Damit ist die Briefwahl wider die Verfassung, welche den Wahl-Ort ausdrücklich =&gt; --- tensor(0) | tensor([ 3.0885, -3.5830]) | tensor(0)\n",
            "die haben die gegner zu süs gemacht icj will die nicht schlagen..... https://t.co/k7DndB5Aqc --- tensor(0) | tensor([ 3.2696, -3.8616]) | tensor(0)\n",
            "@LupinoDotOrg @sixtus ... ich wurde geimpft, und blocke mehrmals täglich von Hand - und kann sehen... Was mach ich falsch?? --- tensor(1) | tensor([-2.6664,  2.9091]) | tensor(0)\n",
            "@koesterfabian Das Zitat soll angeblich von Ihnen sein Herr #Köstner?! „Ich will Politiker nicht diffamieren. Wir zielen darauf ab, politische Inhalte zu vermitteln und zu zeigen, was falsch läuft in der Politik.“ Merken Sie selbst, oder? --- tensor(0) | tensor([ 3.2877, -3.8426]) | tensor(0)\n",
            "@marbrumm @Karl_Lauterbach Du glaubst aber auch alles nicht war? Und weshalb lassen sich dann die Hersteller des Stoffes nicht impfen? ups --- tensor(1) | tensor([-3.0303,  3.2909]) | tensor(1)\n",
            "@jwildeboer Wäre die Anzahl Personen nicht egal wenn die alle aus einem Haushalt sind? --- tensor(1) | tensor([-2.8232,  3.1119]) | tensor(1)\n",
            "@kanews Wer wurde denn da geimpft und wie hat er von der Impfung erfahren, wer hat ihn wann benachrichtigt, wie ist dieser Vorgang abgelaufen? --- tensor(1) | tensor([-3.0845,  3.3589]) | tensor(1)\n"
          ],
          "name": "stdout"
        }
      ]
    },
    {
      "cell_type": "code",
      "metadata": {
        "colab": {
          "base_uri": "https://localhost:8080/",
          "height": 400
        },
        "id": "UJ2ULuDOuO2R",
        "outputId": "b804f6da-e9b8-4a3e-d46a-cd34e94cc275"
      },
      "source": [
        "def show_confusion_matrix(confusion_matrix):\r\n",
        "  hmap = sns.heatmap(confusion_matrix, annot=True, fmt=\"d\", cmap=\"Blues\")\r\n",
        "  hmap.yaxis.set_ticklabels(hmap.yaxis.get_ticklabels(), rotation=0, ha='right')\r\n",
        "  hmap.xaxis.set_ticklabels(hmap.xaxis.get_ticklabels(), rotation=30, ha='right')\r\n",
        "  plt.ylabel('True sentiment')\r\n",
        "  plt.xlabel('Predicted sentiment');\r\n",
        "cm = confusion_matrix(y_test, y_pred)\r\n",
        "df_cm = pd.DataFrame(cm, index=[\"0\",\"1\"], columns=[\"0\",\"1\"])\r\n",
        "show_confusion_matrix(df_cm)"
      ],
      "execution_count": 123,
      "outputs": [
        {
          "output_type": "display_data",
          "data": {
            "image/png": "[encoded data removed]",
            "text/plain": [
              "<Figure size 432x432 with 2 Axes>"
            ]
          },
          "metadata": {
            "tags": [],
            "image/png": {
              "width": 377,
              "height": 383
            }
          }
        }
      ]
    },
    {
      "cell_type": "markdown",
      "metadata": {
        "id": "0ImosWfqvFcJ"
      },
      "source": [
        "PREDICT SENTIMENT ON RAW TEXT"
      ]
    },
    {
      "cell_type": "code",
      "metadata": {
        "id": "pbeD6vGxvewh"
      },
      "source": [
        "twt = \"Ich frag mich wann meine Oma geimpft werden kann?\""
      ],
      "execution_count": 130,
      "outputs": []
    },
    {
      "cell_type": "code",
      "metadata": {
        "id": "vjpv94d3vn8S"
      },
      "source": [
        "encoded_review = tokenizer.encode_plus(\r\n",
        "  twt,\r\n",
        "  max_length=MAX_LEN,\r\n",
        "  add_special_tokens=True,\r\n",
        "  return_token_type_ids=False,\r\n",
        "  pad_to_max_length=True,\r\n",
        "  return_attention_mask=True,\r\n",
        "  return_tensors='pt',\r\n",
        ")"
      ],
      "execution_count": 131,
      "outputs": []
    },
    {
      "cell_type": "code",
      "metadata": {
        "colab": {
          "base_uri": "https://localhost:8080/"
        },
        "id": "_zjtGcAdv_VG",
        "outputId": "c7a49435-df24-41a4-fc9b-ad7a9ec1b3cc"
      },
      "source": [
        "input_ids = encoded_review['input_ids'].to('cuda')\r\n",
        "attention_mask = encoded_review['attention_mask'].to('cuda')\r\n",
        "output = model(input_ids, attention_mask)\r\n",
        "_, prediction = torch.max(output, dim=1)\r\n",
        "print(f'Review text: {twt}')\r\n",
        "print(f'Sentiment  : {[0,1][prediction]}')"
      ],
      "execution_count": 132,
      "outputs": [
        {
          "output_type": "stream",
          "text": [
            "Review text: Ich frag mich wann meine Oma geimpft werden kann?\n",
            "Sentiment  : 1\n"
          ],
          "name": "stdout"
        }
      ]
    }
  ]
}